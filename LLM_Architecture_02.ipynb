{
  "nbformat": 4,
  "nbformat_minor": 0,
  "metadata": {
    "colab": {
      "provenance": []
    },
    "kernelspec": {
      "name": "python3",
      "display_name": "Python 3"
    },
    "language_info": {
      "name": "python"
    }
  },
  "cells": [
    {
      "cell_type": "markdown",
      "source": [
        "Dummy GPT Model class"
      ],
      "metadata": {
        "id": "Rc3-t3Te-8pb"
      }
    },
    {
      "cell_type": "code",
      "execution_count": null,
      "metadata": {
        "id": "9pUxd9dY-rFb"
      },
      "outputs": [],
      "source": [
        "import torch.nn as nn\n",
        "import torch"
      ]
    },
    {
      "cell_type": "code",
      "source": [
        "GPT_CONFIG_124M = {\n",
        "    'context_length': 1024,\n",
        "    'vocab_size': 50257,\n",
        "    'emb_dim': 768,\n",
        "    'n_heads': 12, # attention heads\n",
        "    'n_layers': 12, # num of transformer layers\n",
        "    'drop_rate': 0.1,\n",
        "    'qvk_bias': False\n",
        "}"
      ],
      "metadata": {
        "id": "2V0aiu5_DweV"
      },
      "execution_count": null,
      "outputs": []
    },
    {
      "cell_type": "code",
      "source": [
        "class Dummy_gpt_model(nn.Module):\n",
        "\n",
        "  def __init__(self,cfg):\n",
        "    super()._init__()\n",
        "    self.token_embedding=nn.Embedding(cfg['vocab_size'],cfg['emb_dim'])\n",
        "    self.pos_embedding=nn.Embedding(cfg['context_length'],cfg['emb_dim'])\n",
        "    self.dropout= nn.Dropout(cfg['drop_rate'])\n",
        "\n",
        "    self.trf_block= nn.Sequential(*[Dummy_Transformer_block(cfg) for _ in cfg['n_layers']])\n",
        "    self.final_Norm= Dummy_Layer_Norm(cfg['emb_dim'])\n",
        "    self.out_head= nn.Linear(cfg['emb_dim'],cfg['vocab_size'], bias=False)\n",
        "\n",
        "\n",
        "\n",
        "  def forward(self,in_idx):\n",
        "    batch_size,seq_len=in_idx.shape\n",
        "    token_emb=self.token_embedding(in_idx)\n",
        "    pos_emb=self.pos_embedding(torch.arange(seq_len,device=in_idx.device))\n",
        "    x=token_emb + pos_emb\n",
        "    x=self.dropout(x)\n",
        "    x=self.trf_block()\n",
        "    x=self.final_Norm()\n",
        "    logits= self.out_head()\n",
        "\n",
        "    return logits\n",
        "\n",
        "\n",
        "\n",
        "class Dummy_Transformer_block(nn.Module):\n",
        "\n",
        "  def __init__(self,cfg):\n",
        "    super()._init__()\n",
        "\n",
        "  def forward(self,x):\n",
        "    return x\n",
        "\n",
        "class Dummy_Layer_Norm(nn.Module):\n",
        "\n",
        "  def __init__(self,normalized_shape,eps=1e-5):\n",
        "    super()._init__()\n",
        "\n",
        "  def forward(self,x):\n",
        "    return x\n"
      ],
      "metadata": {
        "id": "OQb9D1dcC-6_"
      },
      "execution_count": null,
      "outputs": []
    },
    {
      "cell_type": "markdown",
      "source": [
        "Implementing Layer Normalization"
      ],
      "metadata": {
        "id": "foEm8jF6byOD"
      }
    },
    {
      "cell_type": "code",
      "source": [
        "class LayerNorm(nn.Module):\n",
        "\n",
        "  def __init__(self,emb_dim):\n",
        "    super().__init__()\n",
        "    self.eps=1e-5\n",
        "    self.scale=nn.Parameter(torch.ones(emb_dim))\n",
        "    self.shift=nn.Parameter(torch.zeros(emb_dim))\n",
        "\n",
        "  def forward(self, x):\n",
        "    mean= x.mean(dim=-1, keepdim=True)\n",
        "    var= x.var(dim=-1, keepdim=True,unbiased=False)\n",
        "    norm_x=(x-mean)/(torch.sqrt(var)+self.eps)\n",
        "\n",
        "    return self.scale * norm_x + self.shift\n"
      ],
      "metadata": {
        "id": "TW6YQo6QDp4H"
      },
      "execution_count": null,
      "outputs": []
    },
    {
      "cell_type": "code",
      "source": [
        "torch.manual_seed(123)\n",
        "batch_example = torch.randn(2, 5)\n",
        "ln=LayerNorm(emb_dim=5)\n",
        "normalized_batch=ln(batch_example)\n",
        "print(\"Normalized Batch: \", normalized_batch,'\\n')\n",
        "torch.set_printoptions(sci_mode=False)\n",
        "print('Mean: ', normalized_batch.mean(dim=-1, keepdim=True),'\\n')\n",
        "print('Variance: ', normalized_batch.var(dim=-1,unbiased=False, keepdim=True),'\\n')"
      ],
      "metadata": {
        "colab": {
          "base_uri": "https://localhost:8080/"
        },
        "id": "n68ohT2tdAL1",
        "outputId": "584af8b9-8f9c-438f-d1e2-c6058b9d0169"
      },
      "execution_count": null,
      "outputs": [
        {
          "output_type": "stream",
          "name": "stdout",
          "text": [
            "Normalized Batch:  tensor([[ 0.5528,  1.0693, -0.0223,  0.2656, -1.8654],\n",
            "        [ 0.9087, -1.3767, -0.9564,  1.1304,  0.2940]], grad_fn=<AddBackward0>) \n",
            "\n",
            "Mean:  tensor([[    -0.0000],\n",
            "        [     0.0000]], grad_fn=<MeanBackward1>) \n",
            "\n",
            "Variance:  tensor([[1.0000],\n",
            "        [1.0000]], grad_fn=<VarBackward0>) \n",
            "\n"
          ]
        }
      ]
    },
    {
      "cell_type": "markdown",
      "source": [
        "Implementing Feed Forward Layer:  linear -> GELU -> linear"
      ],
      "metadata": {
        "id": "24-1NLbJkEnJ"
      }
    },
    {
      "cell_type": "code",
      "source": [
        "class GELU(nn.Module): # GELU activation Function\n",
        "\n",
        "  def __init__(self):\n",
        "    super().__init__()\n",
        "\n",
        "  def forward(self,x):\n",
        "    return  0.5 * x * (1 + torch.tanh(torch.sqrt(torch.tensor(2/torch.pi)) *\n",
        "     (x + 0.044715 * torch.pow(x,3))))\n",
        "\n",
        "\n",
        "\n",
        "class FeedForward(nn.Module):\n",
        "\n",
        "  def __init__(self,cfg):\n",
        "    super().__init__()\n",
        "    self.layers= nn.Sequential(\n",
        "        nn.Linear(cfg['emb_dim'], 4*cfg['emb_dim']), #Expansion\n",
        "        GELU(),\n",
        "        nn.Linear(4*cfg['emb_dim'],cfg['emb_dim']), #Contraction\n",
        "    )\n",
        "\n",
        "  def forward(self,x):\n",
        "    return self.layers(x)"
      ],
      "metadata": {
        "id": "JHtnjHcFeWGc"
      },
      "execution_count": null,
      "outputs": []
    },
    {
      "cell_type": "code",
      "source": [
        "import matplotlib.pyplot as plt\n",
        "\n",
        "\n",
        "gelu , relu = GELU(), nn.ReLU()\n",
        "x= torch.linspace(-3,3,100)\n",
        "y_gelu, y_relu = gelu(x) , relu(x)\n",
        "\n",
        "plt.figure(figsize=(8,3))\n",
        "for i , (label,y) in enumerate(zip(['GELU','ReLU'],[y_gelu,y_relu]),1):\n",
        "  plt.subplot(1,2,i)\n",
        "  plt.plot(x,y)\n",
        "  plt.title(f'{label} Activation Function ')\n",
        "  plt.xlabel('X')\n",
        "  plt.ylabel(f'{label}(x)')\n",
        "  plt.grid=True\n",
        "\n",
        "plt.tight_layout()\n",
        "plt.show()\n",
        "\n"
      ],
      "metadata": {
        "colab": {
          "base_uri": "https://localhost:8080/",
          "height": 307
        },
        "id": "c2ki6DuSmR8W",
        "outputId": "c7afb2e6-dc4e-4787-849c-d6ee8d474c2e"
      },
      "execution_count": null,
      "outputs": [
        {
          "output_type": "display_data",
          "data": {
            "text/plain": [
              "<Figure size 800x300 with 2 Axes>"
            ],
            "image/png": "[encoded data removed]"
          },
          "metadata": {}
        }
      ]
    },
    {
      "cell_type": "code",
      "source": [
        "x = torch.rand(2, 3, 768)\n",
        "ff=FeedForward(GPT_CONFIG_124M)\n",
        "output=ff(x)\n",
        "print(output.shape)\n",
        "\n"
      ],
      "metadata": {
        "colab": {
          "base_uri": "https://localhost:8080/"
        },
        "id": "fo6x4H32n-uQ",
        "outputId": "2cc856c9-e11c-4bf6-91e3-e249b07fa728"
      },
      "execution_count": null,
      "outputs": [
        {
          "output_type": "stream",
          "name": "stdout",
          "text": [
            "torch.Size([2, 3, 768])\n"
          ]
        }
      ]
    },
    {
      "cell_type": "markdown",
      "source": [
        "Shortcut Connections"
      ],
      "metadata": {
        "id": "XkwDTPaB8PZ3"
      }
    },
    {
      "cell_type": "code",
      "source": [
        "class DeepNeuralNetwork(nn.Module):\n",
        "\n",
        "  def __init__(self,shortcut,layer_size):\n",
        "    super().__init__()\n",
        "    self.shortcut=shortcut\n",
        "    self.layers= nn.ModuleList([\n",
        "        nn.Sequential(nn.Linear(layer_size[0],layer_size[1]), GELU()),\n",
        "        nn.Sequential(nn.Linear(layer_size[1],layer_size[2]), GELU()),\n",
        "        nn.Sequential(nn.Linear(layer_size[2],layer_size[3]), GELU()),\n",
        "        nn.Sequential(nn.Linear(layer_size[3],layer_size[4]), GELU()),\n",
        "        nn.Sequential(nn.Linear(layer_size[4],layer_size[5]), GELU())\n",
        "    ])\n",
        "\n",
        "  def forward(self,x):\n",
        "\n",
        "    for layer in self.layers:\n",
        "      layer_output= layer(x)\n",
        "\n",
        "      if self.shortcut and x.shape==layer_output.shape:\n",
        "        x=x+ layer_output\n",
        "      else:\n",
        "        x=layer_output\n",
        "\n",
        "    return x"
      ],
      "metadata": {
        "id": "HD53w4CVph3w"
      },
      "execution_count": null,
      "outputs": []
    },
    {
      "cell_type": "code",
      "source": [
        "layer_size=[3,3,3,3,3,2]\n",
        "x=torch.tensor([[1., 0., -1.]])\n",
        "shortcut_false_obj=DeepNeuralNetwork(False,layer_size)\n",
        "shortcut_false=shortcut_false_obj(x)\n",
        "print(shortcut_false)\n",
        "print(shortcut_false.shape)"
      ],
      "metadata": {
        "colab": {
          "base_uri": "https://localhost:8080/"
        },
        "id": "d9IK1N2y_cd6",
        "outputId": "bb96a6cb-e6c5-4d13-9bb3-75157d30d2c7"
      },
      "execution_count": null,
      "outputs": [
        {
          "output_type": "stream",
          "name": "stdout",
          "text": [
            "tensor([[ 0.1222, -0.0813]], grad_fn=<MulBackward0>)\n",
            "torch.Size([1, 2])\n"
          ]
        }
      ]
    },
    {
      "cell_type": "code",
      "source": [
        "shortcut_True_obj=DeepNeuralNetwork(True,layer_size)\n",
        "shortcut_True=shortcut_True_obj(x)\n",
        "print(shortcut_True)\n",
        "print(shortcut_True.shape)"
      ],
      "metadata": {
        "colab": {
          "base_uri": "https://localhost:8080/"
        },
        "id": "AEITLzFJ_696",
        "outputId": "f16d7551-db2b-445b-8d27-487cc5ef53aa"
      },
      "execution_count": null,
      "outputs": [
        {
          "output_type": "stream",
          "name": "stdout",
          "text": [
            "tensor([[ 0.1027, -0.0977]], grad_fn=<MulBackward0>)\n",
            "torch.Size([1, 2])\n"
          ]
        }
      ]
    },
    {
      "cell_type": "code",
      "source": [
        "def print_gradients(model,x):\n",
        "\n",
        "  output=model(x)\n",
        "  target=torch.tensor([[0.0]])\n",
        "\n",
        "  loss=nn.MSELoss()\n",
        "  loss=loss(output,target)\n",
        "\n",
        "  loss.backward()\n",
        "\n",
        "  for name, param in model.named_parameters():\n",
        "    if 'weight' in name:\n",
        "\n",
        "      print(f\"{name} has a gradient mean of {param.grad.abs().mean().item()}\")\n",
        "\n"
      ],
      "metadata": {
        "id": "OF23UDrjAiO0"
      },
      "execution_count": null,
      "outputs": []
    },
    {
      "cell_type": "code",
      "source": [
        "print_gradients(shortcut_false_obj,x)"
      ],
      "metadata": {
        "colab": {
          "base_uri": "https://localhost:8080/"
        },
        "id": "i0wZwPGYB3bb",
        "outputId": "3b1610f5-8aec-4883-cc8d-6e04923c7361"
      },
      "execution_count": null,
      "outputs": [
        {
          "output_type": "stream",
          "name": "stdout",
          "text": [
            "layers.0.0.weight has a gradient mean of 8.47608462208882e-05\n",
            "layers.1.0.weight has a gradient mean of 4.295782127883285e-05\n",
            "layers.2.0.weight has a gradient mean of 0.0003524677886161953\n",
            "layers.3.0.weight has a gradient mean of 0.0015995483845472336\n",
            "layers.4.0.weight has a gradient mean of 0.006056517828255892\n"
          ]
        },
        {
          "output_type": "stream",
          "name": "stderr",
          "text": [
            "/usr/local/lib/python3.11/dist-packages/torch/nn/modules/loss.py:608: UserWarning: Using a target size (torch.Size([1, 1])) that is different to the input size (torch.Size([1, 2])). This will likely lead to incorrect results due to broadcasting. Please ensure they have the same size.\n",
            "  return F.mse_loss(input, target, reduction=self.reduction)\n"
          ]
        }
      ]
    },
    {
      "cell_type": "code",
      "source": [
        "print_gradients(shortcut_True_obj,x)"
      ],
      "metadata": {
        "colab": {
          "base_uri": "https://localhost:8080/"
        },
        "id": "OS9vqs8QCBDS",
        "outputId": "6f1625ec-89ca-49bd-ae0b-7961667603cd"
      },
      "execution_count": null,
      "outputs": [
        {
          "output_type": "stream",
          "name": "stdout",
          "text": [
            "layers.0.0.weight has a gradient mean of 0.0037773335352540016\n",
            "layers.1.0.weight has a gradient mean of 0.007775923237204552\n",
            "layers.2.0.weight has a gradient mean of 0.010132890194654465\n",
            "layers.3.0.weight has a gradient mean of 0.013051428832113743\n",
            "layers.4.0.weight has a gradient mean of 0.058111872524023056\n"
          ]
        }
      ]
    },
    {
      "cell_type": "markdown",
      "source": [
        "Entire LLM Transformer Block"
      ],
      "metadata": {
        "id": "V3bceRLN6sIk"
      }
    },
    {
      "cell_type": "code",
      "source": [
        "class Multi_head_attention(nn.Module):\n",
        "\n",
        "  def __init__(self,d_in,d_out,dropout,num_heads,context_length, qvk_bias=False):\n",
        "    super().__init__()\n",
        "\n",
        "    assert(d_out%num_heads==0) ,\\\n",
        "          \"d_out must be divisible by num_heads\"\n",
        "\n",
        "    self.d_out=d_out\n",
        "    self.num_heads=num_heads\n",
        "    self.head_dim=d_out//num_heads\n",
        "    self.query=nn.Linear(d_in,d_out,bias=qvk_bias)\n",
        "    self.key=nn.Linear(d_in,d_out,bias=qvk_bias)\n",
        "    self.value=nn.Linear(d_in,d_out,bias=qvk_bias)\n",
        "    self.out_proj=nn.Linear(d_out,d_out)  #Linear layer to combine head outputs\n",
        "    self.dropout=nn.Dropout(dropout)\n",
        "    self.register_buffer('mask', torch.triu(torch.ones((context_length,context_length)), diagonal=1))\n",
        "\n",
        "\n",
        "  def forward(self,x):\n",
        "    b,n_tokens,d_in=x.shape\n",
        "    query1=self.query(x)\n",
        "    key1=self.key(x)\n",
        "    value1=self.value(x)\n",
        "\n",
        "    # Unroll last dim: (b, num_tokens, d_out) -> (b, num_tokens, num_heads, head_dim)\n",
        "    query1=query1.view(b,n_tokens,self.num_heads, self.head_dim)\n",
        "    key1=key1.view(b,n_tokens,self.num_heads, self.head_dim)\n",
        "    value1=value1.view(b,n_tokens,self.num_heads, self.head_dim)\n",
        "\n",
        "    # Transpose: (b, num_tokens, num_heads, head_dim) -> (b, num_heads, num_tokens, head_dim)\n",
        "    query1=query1.transpose(1,2)\n",
        "    key1=key1.transpose(1,2)\n",
        "    value1=value1.transpose(1,2)\n",
        "\n",
        "    attn_scores=query1 @ key1.transpose(2,3)\n",
        "    attn_scores.masked_fill_(self.mask.bool()[:n_tokens,:n_tokens] , -torch.inf)\n",
        "\n",
        "    attn_weights=torch.softmax(attn_scores/key1.shape[-1]**0.5,dim=-1)\n",
        "    attn_weights=self.dropout(attn_weights)\n",
        "\n",
        "    # Shape: (b, num_tokens, num_heads, head_dim)\n",
        "    cntxt_vctr=(attn_weights @ value1).transpose(1,2)\n",
        "    # Combine heads, where self.d_out = self.num_heads * self.head_dim\n",
        "    cntxt_vctr=cntxt_vctr.contiguous().view(b,n_tokens,self.d_out)\n",
        "    cntxt_vctr=self.out_proj(cntxt_vctr)\n",
        "\n",
        "    return cntxt_vctr\n",
        "\n",
        "\n"
      ],
      "metadata": {
        "id": "xpxHnbGO92qS"
      },
      "execution_count": null,
      "outputs": []
    },
    {
      "cell_type": "code",
      "source": [
        "class TransformerBlock(nn.Module):\n",
        "\n",
        "  def __init__(self,cfg):\n",
        "    super().__init__()\n",
        "    self.attention=Multi_head_attention(\n",
        "        d_in=cfg['emb_dim'],\n",
        "        d_out=cfg['emb_dim'],\n",
        "        dropout=cfg['drop_rate'],\n",
        "        num_heads=cfg['n_heads'],\n",
        "        context_length=cfg['context_length'],\n",
        "        qvk_bias=cfg[\"qvk_bias\"]\n",
        "        )\n",
        "    self.norm1=LayerNorm(cfg['emb_dim'])\n",
        "    self.norm2=LayerNorm(cfg['emb_dim'])\n",
        "    self.dropout_layer=nn.Dropout(cfg['drop_rate'])\n",
        "    self.feed_forward=FeedForward(cfg)\n",
        "\n",
        "\n",
        "  def forward(self,x):\n",
        "\n",
        "    shortcut=x\n",
        "    x=self.norm1(x)\n",
        "    x=self.attention(x)\n",
        "    x=self.dropout_layer(x)\n",
        "    x= x+ shortcut\n",
        "\n",
        "    shortcut = x\n",
        "    x=self.norm2(x)\n",
        "    x=self.feed_forward(x)\n",
        "    x=self.dropout_layer(x)\n",
        "    x= x+ shortcut\n",
        "\n",
        "    return x"
      ],
      "metadata": {
        "id": "qdcj7254CFPJ"
      },
      "execution_count": null,
      "outputs": []
    },
    {
      "cell_type": "code",
      "source": [
        "torch.manual_seed(123)\n",
        "x = torch.rand(2, 4, 768)\n",
        "block_obj= TransformerBlock(GPT_CONFIG_124M)\n",
        "block_output=block_obj(x)\n",
        "print('Input shape: ',x.shape)\n",
        "print('Output shape: ',block_output.shape)"
      ],
      "metadata": {
        "colab": {
          "base_uri": "https://localhost:8080/"
        },
        "id": "8qIeLMoLAWut",
        "outputId": "b53a43f7-471f-4e0b-c2a7-14faa69690c1"
      },
      "execution_count": null,
      "outputs": [
        {
          "output_type": "stream",
          "name": "stdout",
          "text": [
            "Input shape:  torch.Size([2, 4, 768])\n",
            "Output shape:  torch.Size([2, 4, 768])\n"
          ]
        }
      ]
    },
    {
      "cell_type": "markdown",
      "source": [
        "Entire GPT Model Architecture Implementation"
      ],
      "metadata": {
        "id": "l65YnTcQBN-m"
      }
    },
    {
      "cell_type": "code",
      "source": [
        "class gpt_model(nn.Module):\n",
        "\n",
        "  def __init__(self,cfg):\n",
        "    super().__init__()\n",
        "    self.token_embedding=nn.Embedding(cfg['vocab_size'],cfg['emb_dim'])\n",
        "    self.pos_embedding=nn.Embedding(cfg['context_length'],cfg['emb_dim'])\n",
        "    self.dropout= nn.Dropout(cfg['drop_rate'])\n",
        "\n",
        "    self.trf_block= nn.Sequential(*[TransformerBlock(cfg) for _ in range(cfg['n_layers'])])\n",
        "    self.final_Norm= LayerNorm(cfg['emb_dim'])\n",
        "    self.out_head= nn.Linear(cfg['emb_dim'],cfg['vocab_size'], bias=False)\n",
        "\n",
        "\n",
        "\n",
        "  def forward(self,in_idx):\n",
        "    batch_size,seq_len=in_idx.shape\n",
        "    token_emb=self.token_embedding(in_idx)\n",
        "    pos_emb=self.pos_embedding(torch.arange(seq_len,device=in_idx.device))\n",
        "    x=token_emb + pos_emb\n",
        "    x=self.dropout(x)\n",
        "    x=self.trf_block(x)\n",
        "    x=self.final_Norm(x)\n",
        "    logits= self.out_head(x)\n",
        "\n",
        "    return logits"
      ],
      "metadata": {
        "id": "KkTDPKlqA3ND"
      },
      "execution_count": null,
      "outputs": []
    },
    {
      "cell_type": "code",
      "source": [
        "torch.manual_seed(123)\n",
        "gpt_model_obj=gpt_model(GPT_CONFIG_124M)\n",
        "batch=torch.tensor([[6109, 3626, 6100,  345],\n",
        "        [6109, 1110, 6622,  257]])\n",
        "out=gpt_model_obj(batch)\n",
        "print(batch.shape)\n",
        "print(out.shape)"
      ],
      "metadata": {
        "colab": {
          "base_uri": "https://localhost:8080/"
        },
        "id": "4h8SMCNLRhBC",
        "outputId": "5f80f614-56d6-46be-e2b0-a3afbe23c42c"
      },
      "execution_count": null,
      "outputs": [
        {
          "output_type": "stream",
          "name": "stdout",
          "text": [
            "torch.Size([2, 4])\n",
            "torch.Size([2, 4, 50257])\n"
          ]
        }
      ]
    },
    {
      "cell_type": "code",
      "source": [
        "total_params= sum(prm.numel() for prm in gpt_model_obj.parameters())\n",
        "print(\"total parameters in our gpt model : \",f'{total_params:,}')"
      ],
      "metadata": {
        "colab": {
          "base_uri": "https://localhost:8080/"
        },
        "id": "T5C9t2zORwMJ",
        "outputId": "25c0da4a-9a0c-4361-ad61-ac2d969f39db"
      },
      "execution_count": null,
      "outputs": [
        {
          "output_type": "stream",
          "name": "stdout",
          "text": [
            "total parameters in our gpt model :  163,009,536\n"
          ]
        }
      ]
    },
    {
      "cell_type": "code",
      "source": [
        "#but gpt2 has 124M parameter why does our model has 163M? bcz in gpt2, they are reusing the weights of token embedding layer\n",
        "#in the linear output layer , this is called weight tying"
      ],
      "metadata": {
        "id": "gvAWKzUATQ36"
      },
      "execution_count": null,
      "outputs": []
    },
    {
      "cell_type": "code",
      "source": [
        "print('token embedding weight shape: ', gpt_model_obj.token_embedding.weight.shape)\n",
        "print('Output layer weight shape: ',gpt_model_obj.out_head.weight.shape)"
      ],
      "metadata": {
        "colab": {
          "base_uri": "https://localhost:8080/"
        },
        "id": "n826E5_XVCMm",
        "outputId": "4b4acabc-e2b4-41a4-8176-6b029a061921"
      },
      "execution_count": null,
      "outputs": [
        {
          "output_type": "stream",
          "name": "stdout",
          "text": [
            "token embedding weight shape:  torch.Size([50257, 768])\n",
            "Output layer weight shape:  torch.Size([50257, 768])\n"
          ]
        }
      ]
    },
    {
      "cell_type": "code",
      "source": [
        "#As we can see both have same number of shapes"
      ],
      "metadata": {
        "id": "BuK8RZw_VjOW"
      },
      "execution_count": null,
      "outputs": []
    },
    {
      "cell_type": "code",
      "source": [
        "total_bytes=total_params*4\n",
        "total_bytes_MB=total_bytes/(1024*1024)\n",
        "print('Total size of our model: ',f'{total_bytes_MB:.2f}','MB')"
      ],
      "metadata": {
        "colab": {
          "base_uri": "https://localhost:8080/"
        },
        "id": "SpOt2l-aVxqg",
        "outputId": "cb5d4e7a-3d61-40a8-bf1c-8ff6c0663bf2"
      },
      "execution_count": null,
      "outputs": [
        {
          "output_type": "stream",
          "name": "stdout",
          "text": [
            "Total size of our model:  621.83 MB\n"
          ]
        }
      ]
    },
    {
      "cell_type": "markdown",
      "source": [
        "Generating Text from the output tokens"
      ],
      "metadata": {
        "id": "gSkkN22Ghx7F"
      }
    },
    {
      "cell_type": "code",
      "source": [
        "class generate_text_simple(nn.Module):\n",
        "\n",
        "  def __init__(self,cfg):\n",
        "    super().__init__()\n",
        "\n",
        "  def forward(self,model,idx,context_size,max_new_length):\n",
        "\n",
        "    for _ in range(max_new_length):\n",
        "      idx_cond=idx[:,-context_size:]\n",
        "\n",
        "      with torch.no_grad():\n",
        "        logits=model(idx_cond)\n",
        "\n",
        "      logits=logits[:,-1,:]\n",
        "      probs=torch.softmax(logits, dim=-1)\n",
        "      idx_next=torch.argmax(probs, dim=-1, keepdim=True)\n",
        "\n",
        "      idx= torch.cat((idx,idx_next), dim=-1)\n",
        "\n",
        "    return idx\n"
      ],
      "metadata": {
        "id": "Wf7sSeklWGs8"
      },
      "execution_count": null,
      "outputs": []
    },
    {
      "cell_type": "code",
      "source": [
        "!pip install tiktoken"
      ],
      "metadata": {
        "colab": {
          "base_uri": "https://localhost:8080/"
        },
        "id": "NrOeKlYWEFC6",
        "outputId": "e5c25496-5bc8-4885-f2b3-8395906045a5"
      },
      "execution_count": null,
      "outputs": [
        {
          "output_type": "stream",
          "name": "stdout",
          "text": [
            "Collecting tiktoken\n",
            "  Downloading tiktoken-0.9.0-cp311-cp311-manylinux_2_17_x86_64.manylinux2014_x86_64.whl.metadata (6.7 kB)\n",
            "Requirement already satisfied: regex>=2022.1.18 in /usr/local/lib/python3.11/dist-packages (from tiktoken) (2024.11.6)\n",
            "Requirement already satisfied: requests>=2.26.0 in /usr/local/lib/python3.11/dist-packages (from tiktoken) (2.32.3)\n",
            "Requirement already satisfied: charset-normalizer<4,>=2 in /usr/local/lib/python3.11/dist-packages (from requests>=2.26.0->tiktoken) (3.4.1)\n",
            "Requirement already satisfied: idna<4,>=2.5 in /usr/local/lib/python3.11/dist-packages (from requests>=2.26.0->tiktoken) (3.10)\n",
            "Requirement already satisfied: urllib3<3,>=1.21.1 in /usr/local/lib/python3.11/dist-packages (from requests>=2.26.0->tiktoken) (2.3.0)\n",
            "Requirement already satisfied: certifi>=2017.4.17 in /usr/local/lib/python3.11/dist-packages (from requests>=2.26.0->tiktoken) (2025.1.31)\n",
            "Downloading tiktoken-0.9.0-cp311-cp311-manylinux_2_17_x86_64.manylinux2014_x86_64.whl (1.2 MB)\n",
            "\u001b[2K   \u001b[90m━━━━━━━━━━━━━━━━━━━━━━━━━━━━━━━━━━━━━━━━\u001b[0m \u001b[32m1.2/1.2 MB\u001b[0m \u001b[31m19.0 MB/s\u001b[0m eta \u001b[36m0:00:00\u001b[0m\n",
            "\u001b[?25hInstalling collected packages: tiktoken\n",
            "Successfully installed tiktoken-0.9.0\n"
          ]
        }
      ]
    },
    {
      "cell_type": "code",
      "source": [
        "import tiktoken\n",
        "tokenizer=tiktoken.get_encoding('gpt2')\n",
        "text=' Hello , I am'\n",
        "encoded=tokenizer.encode(text)\n",
        "print(encoded)\n",
        "encoded_tensor= torch.tensor(encoded).unsqueeze(0)\n",
        "print(encoded_tensor)"
      ],
      "metadata": {
        "colab": {
          "base_uri": "https://localhost:8080/"
        },
        "id": "m5vFMT2ojrTU",
        "outputId": "6b0eb905-adc6-4b19-d421-9e85d6b795d6"
      },
      "execution_count": null,
      "outputs": [
        {
          "output_type": "stream",
          "name": "stdout",
          "text": [
            "[18435, 837, 314, 716]\n",
            "tensor([[18435,   837,   314,   716]])\n"
          ]
        }
      ]
    },
    {
      "cell_type": "code",
      "source": [
        "gpt_model_obj.eval()\n",
        "generator=generate_text_simple(GPT_CONFIG_124M)\n",
        "out=generator(model=gpt_model_obj,idx=encoded_tensor,context_size=GPT_CONFIG_124M['context_length'],max_new_length=6)\n",
        "\n",
        "print('Output: ',out)\n"
      ],
      "metadata": {
        "colab": {
          "base_uri": "https://localhost:8080/"
        },
        "id": "dnjZnuuRECio",
        "outputId": "33d58c24-be66-4fd6-8fdc-dd00f0743e9c"
      },
      "execution_count": null,
      "outputs": [
        {
          "output_type": "stream",
          "name": "stdout",
          "text": [
            "Output:  tensor([[18435,   837,   314,   716, 46895, 36274, 37195, 26455,  6613, 13918]])\n"
          ]
        }
      ]
    },
    {
      "cell_type": "code",
      "source": [
        "tokenizer.decode(out.squeeze(0).tolist())"
      ],
      "metadata": {
        "colab": {
          "base_uri": "https://localhost:8080/",
          "height": 36
        },
        "id": "xb45sL71GdZc",
        "outputId": "572205b4-d03d-4c91-b04b-5e8d8e129788"
      },
      "execution_count": null,
      "outputs": [
        {
          "output_type": "execute_result",
          "data": {
            "text/plain": [
              "' Hello , I am pedigreeigor AUTH Sith proudEXT'"
            ],
            "application/vnd.google.colaboratory.intrinsic+json": {
              "type": "string"
            }
          },
          "metadata": {},
          "execution_count": 29
        }
      ]
    },
    {
      "cell_type": "code",
      "source": [
        "# Now this prediction has been made by the random weights."
      ],
      "metadata": {
        "id": "wWdLf6GSHfAD"
      },
      "execution_count": null,
      "outputs": []
    },
    {
      "cell_type": "code",
      "source": [
        "def text_to_tokenId(text, tokenizer):\n",
        "  encoded=tokenizer.encode(text,allowed_special={'<|endoftext|>'})\n",
        "  encoded_tensor=torch.tensor(encoded).unsqueeze(0)\n",
        "  return encoded_tensor\n",
        "\n",
        "\n",
        "def tokenId_to_text(token_ids,tokenizer):\n",
        "  flat=token_ids.squeeze(0)\n",
        "  decoded=tokenizer.decode(flat.tolist())\n",
        "  return decoded\n",
        "\n",
        "\n",
        "text=\"You cannot fail, \"\n",
        "tokenizer=tiktoken.get_encoding('gpt2')\n",
        "model=generate_text_simple(GPT_CONFIG_124M)\n",
        "token_ids=model(model=gpt_model_obj,\n",
        "          idx=text_to_tokenId(text,tokenizer),\n",
        "          context_size=GPT_CONFIG_124M['context_length'],\n",
        "          max_new_length=10)\n",
        "\n",
        "print('Output: ',tokenId_to_text(token_ids,tokenizer))"
      ],
      "metadata": {
        "colab": {
          "base_uri": "https://localhost:8080/"
        },
        "id": "OrBeJMbDHwIr",
        "outputId": "c2239f8d-bb8d-4893-9764-e6ba1fbe54c1"
      },
      "execution_count": null,
      "outputs": [
        {
          "output_type": "stream",
          "name": "stdout",
          "text": [
            "Output:  You cannot fail, iman Byeswick GH Spirit Disclosure paranoiaelve ChalLinux\n"
          ]
        }
      ]
    },
    {
      "cell_type": "markdown",
      "source": [
        "Calculating the text generation loss: cross-entropy and perplexity"
      ],
      "metadata": {
        "id": "2-DQdel1czcb"
      }
    },
    {
      "cell_type": "code",
      "source": [
        "inputs = torch.tensor([[16833, 3626, 6100],   # [\"every effort moves\",\n",
        "                       [40,    1107, 588]])   #  \"I really like\"]\n",
        "\n",
        "targets = torch.tensor([[3626, 6100, 345  ],  # [\" effort moves you\",\n",
        "                        [1107,  588, 11311]]) #  \" really like chocolate\"]"
      ],
      "metadata": {
        "id": "Dt9KZkPdcs2e"
      },
      "execution_count": null,
      "outputs": []
    },
    {
      "cell_type": "code",
      "source": [
        "torch.manual_seed(123)\n",
        "model=gpt_model(GPT_CONFIG_124M)\n",
        "with torch.no_grad():\n",
        "  logits=model(inputs)\n",
        "\n",
        "print(\"Logits shape: \",logits.shape)"
      ],
      "metadata": {
        "colab": {
          "base_uri": "https://localhost:8080/"
        },
        "id": "D_DaWnmO2P-N",
        "outputId": "7c8216eb-eb8a-4a2e-fd3d-8a8a25679f99"
      },
      "execution_count": null,
      "outputs": [
        {
          "output_type": "stream",
          "name": "stdout",
          "text": [
            "Logits shape:  torch.Size([2, 3, 50257])\n"
          ]
        }
      ]
    },
    {
      "cell_type": "code",
      "source": [
        "probas=torch.softmax(logits, dim=-1)\n",
        "print(probas.shape)"
      ],
      "metadata": {
        "colab": {
          "base_uri": "https://localhost:8080/"
        },
        "id": "4PRtxYw-23ew",
        "outputId": "92e94d83-3cc5-4a81-86a3-3eb253d3e1be"
      },
      "execution_count": null,
      "outputs": [
        {
          "output_type": "stream",
          "name": "stdout",
          "text": [
            "torch.Size([2, 3, 50257])\n"
          ]
        }
      ]
    },
    {
      "cell_type": "code",
      "source": [
        "predicted_output=torch.argmax(probas, dim=-1)\n",
        "print(predicted_output.shape)\n",
        "print(predicted_output)"
      ],
      "metadata": {
        "colab": {
          "base_uri": "https://localhost:8080/"
        },
        "id": "-pNo_CCV3zot",
        "outputId": "4fd4900d-2a34-48af-d83d-93ea567b92d2"
      },
      "execution_count": null,
      "outputs": [
        {
          "output_type": "stream",
          "name": "stdout",
          "text": [
            "torch.Size([2, 3])\n",
            "tensor([[23799,  2662, 12752],\n",
            "        [20522, 49289, 17284]])\n"
          ]
        }
      ]
    },
    {
      "cell_type": "code",
      "source": [
        "# ([[3626, 6100, 345  ],\n",
        "# [1107,  588, 11311]])\n",
        "\n",
        "#Now, the predicted output results are quite far away from target."
      ],
      "metadata": {
        "id": "Hi7NHcEX4JUB"
      },
      "execution_count": null,
      "outputs": []
    },
    {
      "cell_type": "code",
      "source": [
        "text_id0=0\n",
        "target_prob1=probas[text_id0,[0,1,2], targets[text_id0]]\n",
        "text_id1=1\n",
        "target_prob2=probas[text_id1,[0,1,2], targets[text_id1]]\n",
        "\n",
        "print(target_prob1,'\\n')\n",
        "print(target_prob2,'\\n')\n"
      ],
      "metadata": {
        "colab": {
          "base_uri": "https://localhost:8080/"
        },
        "id": "lWdJZkxK4hlg",
        "outputId": "53f26982-95cf-4b30-e18d-6a89bf401f3c"
      },
      "execution_count": null,
      "outputs": [
        {
          "output_type": "stream",
          "name": "stdout",
          "text": [
            "tensor([    0.0000,     0.0000,     0.0000]) \n",
            "\n",
            "tensor([    0.0000,     0.0000,     0.0000]) \n",
            "\n"
          ]
        }
      ]
    },
    {
      "cell_type": "code",
      "source": [
        "#Above these probabilites should be equal to 1\n",
        "target_probs=torch.cat([target_prob1,target_prob2])\n",
        "print(target_probs.shape)\n",
        "print(target_probs)"
      ],
      "metadata": {
        "colab": {
          "base_uri": "https://localhost:8080/"
        },
        "id": "BcUPKBN25Jqx",
        "outputId": "f1f9fdc8-adae-4fa4-c555-ea7ef54972ed"
      },
      "execution_count": null,
      "outputs": [
        {
          "output_type": "stream",
          "name": "stdout",
          "text": [
            "torch.Size([6])\n",
            "tensor([    0.0000,     0.0000,     0.0000,     0.0000,     0.0000,     0.0000])\n"
          ]
        }
      ]
    },
    {
      "cell_type": "code",
      "source": [
        "log_targets=torch.log(target_probs)\n",
        "print(log_targets)"
      ],
      "metadata": {
        "colab": {
          "base_uri": "https://localhost:8080/"
        },
        "id": "ML7Twp9C5omK",
        "outputId": "a89441ea-ca4f-483c-806c-1482a46cda2b"
      },
      "execution_count": null,
      "outputs": [
        {
          "output_type": "stream",
          "name": "stdout",
          "text": [
            "tensor([-10.5874, -10.5089, -11.1218, -10.3691, -11.4307, -11.9483])\n"
          ]
        }
      ]
    },
    {
      "cell_type": "code",
      "source": [
        "mean_log_targets=torch.mean(log_targets,dim=-1)\n",
        "print(mean_log_targets)"
      ],
      "metadata": {
        "colab": {
          "base_uri": "https://localhost:8080/"
        },
        "id": "LFop2SLN5xie",
        "outputId": "8af293a5-92cd-43e0-9b06-1f3b39bd7a24"
      },
      "execution_count": null,
      "outputs": [
        {
          "output_type": "stream",
          "name": "stdout",
          "text": [
            "tensor(-10.9944)\n"
          ]
        }
      ]
    },
    {
      "cell_type": "code",
      "source": [
        "neg_log_probs=mean_log_targets*-1\n",
        "print(neg_log_probs)"
      ],
      "metadata": {
        "colab": {
          "base_uri": "https://localhost:8080/"
        },
        "id": "7hsJL7M557D4",
        "outputId": "002db64c-cca9-48ed-9f5d-1ba7626aeec3"
      },
      "execution_count": null,
      "outputs": [
        {
          "output_type": "stream",
          "name": "stdout",
          "text": [
            "tensor(10.9944)\n"
          ]
        }
      ]
    },
    {
      "cell_type": "code",
      "source": [
        "#Now calculating the cross entropy loss by using the built in function\n",
        "logits_flat=logits.flatten(0,1)\n",
        "targets_flat=targets.flatten()\n",
        "print(logits_flat.shape)\n",
        "print(targets_flat.shape)"
      ],
      "metadata": {
        "colab": {
          "base_uri": "https://localhost:8080/"
        },
        "id": "XUdx1JvB6GNS",
        "outputId": "122818b8-1844-4481-bf85-9abf0dad84d4"
      },
      "execution_count": null,
      "outputs": [
        {
          "output_type": "stream",
          "name": "stdout",
          "text": [
            "torch.Size([6, 50257])\n",
            "torch.Size([6])\n"
          ]
        }
      ]
    },
    {
      "cell_type": "code",
      "source": [
        "loss=torch.nn.functional.cross_entropy(logits_flat,targets_flat)\n",
        "print(loss)"
      ],
      "metadata": {
        "colab": {
          "base_uri": "https://localhost:8080/"
        },
        "id": "pB1CALyK6bdo",
        "outputId": "4725d344-6408-4d0c-ff7b-aadeaaa133cb"
      },
      "execution_count": null,
      "outputs": [
        {
          "output_type": "stream",
          "name": "stdout",
          "text": [
            "tensor(10.9944)\n"
          ]
        }
      ]
    },
    {
      "cell_type": "markdown",
      "source": [
        "Perplexity"
      ],
      "metadata": {
        "id": "2A4Yvf_B6mwb"
      }
    },
    {
      "cell_type": "code",
      "source": [
        "perplexity=torch.exp(loss)\n",
        "print(perplexity)"
      ],
      "metadata": {
        "colab": {
          "base_uri": "https://localhost:8080/"
        },
        "id": "42ASk_iP6jV5",
        "outputId": "f824cf62-77b2-4d02-a563-b3bc3d786486"
      },
      "execution_count": null,
      "outputs": [
        {
          "output_type": "stream",
          "name": "stdout",
          "text": [
            "tensor(59538.5938)\n"
          ]
        }
      ]
    },
    {
      "cell_type": "code",
      "source": [],
      "metadata": {
        "id": "AcXeGc5B60If"
      },
      "execution_count": null,
      "outputs": []
    }
  ]
}